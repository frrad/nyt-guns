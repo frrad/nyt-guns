{
 "cells": [
  {
   "cell_type": "code",
   "execution_count": 1,
   "metadata": {
    "collapsed": true
   },
   "outputs": [],
   "source": [
    "import matplotlib.pyplot as plt\n",
    "import pandas as pd\n",
    "import numpy as np\n",
    "import json\n",
    "%matplotlib inline  "
   ]
  },
  {
   "cell_type": "code",
   "execution_count": 2,
   "metadata": {
    "collapsed": true
   },
   "outputs": [],
   "source": [
    "with open('wpd.json', 'r') as f:\n",
    "    data = ''.join(f.readlines())\n",
    "\n",
    "data = json.loads(data)\n",
    "extract = list()\n",
    "\n",
    "for pt in data['datasetColl'][0]['data']:\n",
    "    [guns, shooters] = pt['value']\n",
    "    country = ''\n",
    "    if guns > 80:\n",
    "        country = 'united states'\n",
    "    if shooters > 30:\n",
    "        country = 'yemen'\n",
    "\n",
    "    extract.append([guns, shooters, country])\n",
    "\n",
    "\n",
    "frame = pd.DataFrame(extract, columns=['guns', 'shooters', 'country'])\n"
   ]
  },
  {
   "cell_type": "code",
   "execution_count": 3,
   "metadata": {},
   "outputs": [
    {
     "data": {
      "text/html": [
       "<div>\n",
       "<style>\n",
       "    .dataframe thead tr:only-child th {\n",
       "        text-align: right;\n",
       "    }\n",
       "\n",
       "    .dataframe thead th {\n",
       "        text-align: left;\n",
       "    }\n",
       "\n",
       "    .dataframe tbody tr th {\n",
       "        vertical-align: top;\n",
       "    }\n",
       "</style>\n",
       "<table border=\"1\" class=\"dataframe\">\n",
       "  <thead>\n",
       "    <tr style=\"text-align: right;\">\n",
       "      <th></th>\n",
       "      <th>guns</th>\n",
       "      <th>shooters</th>\n",
       "    </tr>\n",
       "  </thead>\n",
       "  <tbody>\n",
       "    <tr>\n",
       "      <th>guns</th>\n",
       "      <td>1.000000</td>\n",
       "      <td>0.529725</td>\n",
       "    </tr>\n",
       "    <tr>\n",
       "      <th>shooters</th>\n",
       "      <td>0.529725</td>\n",
       "      <td>1.000000</td>\n",
       "    </tr>\n",
       "  </tbody>\n",
       "</table>\n",
       "</div>"
      ],
      "text/plain": [
       "              guns  shooters\n",
       "guns      1.000000  0.529725\n",
       "shooters  0.529725  1.000000"
      ]
     },
     "execution_count": 3,
     "metadata": {},
     "output_type": "execute_result"
    },
    {
     "data": {
      "image/png": "[encoded data removed]",
      "text/plain": [
       "<matplotlib.figure.Figure at 0x106afff50>"
      ]
     },
     "metadata": {},
     "output_type": "display_data"
    }
   ],
   "source": [
    "frame.plot.scatter('guns','shooters')\n",
    "frame.corr()"
   ]
  },
  {
   "cell_type": "code",
   "execution_count": 4,
   "metadata": {},
   "outputs": [
    {
     "data": {
      "text/html": [
       "<div>\n",
       "<style>\n",
       "    .dataframe thead tr:only-child th {\n",
       "        text-align: right;\n",
       "    }\n",
       "\n",
       "    .dataframe thead th {\n",
       "        text-align: left;\n",
       "    }\n",
       "\n",
       "    .dataframe tbody tr th {\n",
       "        vertical-align: top;\n",
       "    }\n",
       "</style>\n",
       "<table border=\"1\" class=\"dataframe\">\n",
       "  <thead>\n",
       "    <tr style=\"text-align: right;\">\n",
       "      <th></th>\n",
       "      <th>guns</th>\n",
       "      <th>shooters</th>\n",
       "    </tr>\n",
       "  </thead>\n",
       "  <tbody>\n",
       "    <tr>\n",
       "      <th>guns</th>\n",
       "      <td>1.000000</td>\n",
       "      <td>0.423134</td>\n",
       "    </tr>\n",
       "    <tr>\n",
       "      <th>shooters</th>\n",
       "      <td>0.423134</td>\n",
       "      <td>1.000000</td>\n",
       "    </tr>\n",
       "  </tbody>\n",
       "</table>\n",
       "</div>"
      ],
      "text/plain": [
       "              guns  shooters\n",
       "guns      1.000000  0.423134\n",
       "shooters  0.423134  1.000000"
      ]
     },
     "execution_count": 4,
     "metadata": {},
     "output_type": "execute_result"
    },
    {
     "data": {
      "image/png": "[encoded data removed]",
      "text/plain": [
       "<matplotlib.figure.Figure at 0x106c32810>"
      ]
     },
     "metadata": {},
     "output_type": "display_data"
    }
   ],
   "source": [
    "nous = frame[frame['country']!='united states']\n",
    "nous.plot.scatter('guns','shooters')\n",
    "nous.corr()"
   ]
  },
  {
   "cell_type": "code",
   "execution_count": 5,
   "metadata": {},
   "outputs": [
    {
     "data": {
      "text/html": [
       "<div>\n",
       "<style>\n",
       "    .dataframe thead tr:only-child th {\n",
       "        text-align: right;\n",
       "    }\n",
       "\n",
       "    .dataframe thead th {\n",
       "        text-align: left;\n",
       "    }\n",
       "\n",
       "    .dataframe tbody tr th {\n",
       "        vertical-align: top;\n",
       "    }\n",
       "</style>\n",
       "<table border=\"1\" class=\"dataframe\">\n",
       "  <thead>\n",
       "    <tr style=\"text-align: right;\">\n",
       "      <th></th>\n",
       "      <th>guns</th>\n",
       "      <th>shooters</th>\n",
       "    </tr>\n",
       "  </thead>\n",
       "  <tbody>\n",
       "    <tr>\n",
       "      <th>guns</th>\n",
       "      <td>1.00000</td>\n",
       "      <td>0.05337</td>\n",
       "    </tr>\n",
       "    <tr>\n",
       "      <th>shooters</th>\n",
       "      <td>0.05337</td>\n",
       "      <td>1.00000</td>\n",
       "    </tr>\n",
       "  </tbody>\n",
       "</table>\n",
       "</div>"
      ],
      "text/plain": [
       "             guns  shooters\n",
       "guns      1.00000   0.05337\n",
       "shooters  0.05337   1.00000"
      ]
     },
     "execution_count": 5,
     "metadata": {},
     "output_type": "execute_result"
    },
    {
     "data": {
      "image/png": "[encoded data removed]",
      "text/plain": [
       "<matplotlib.figure.Figure at 0x106c08810>"
      ]
     },
     "metadata": {},
     "output_type": "display_data"
    }
   ],
   "source": [
    "neither = frame[(frame['country']!='united states') & (frame['country']!='yemen')]\n",
    "neither.plot.scatter('guns','shooters')\n",
    "neither.corr()"
   ]
  },
  {
   "cell_type": "code",
   "execution_count": 6,
   "metadata": {},
   "outputs": [],
   "source": [
    "def bootstrap_confidence_intervals(data,ci):\n",
    "    bootstraps = np.array([data.sample(len(data),replace=True).corr()['shooters']['guns'] for x in xrange(10**5)])\n",
    "    plt.hist(bootstraps, bins=250)\n",
    "    plt.show()\n",
    "    return [round(x,2) for x in \n",
    "            [np.percentile(bootstraps,50-ci/2), np.percentile(bootstraps,50), np.percentile(bootstraps,50+ci/2)]]"
   ]
  },
  {
   "cell_type": "code",
   "execution_count": 7,
   "metadata": {},
   "outputs": [],
   "source": [
    "def wrap(data, percent, name):\n",
    "    print str(percent) + '% confidence interval for ' + name + ': ' + str(bootstrap_confidence_intervals(data, percent))"
   ]
  },
  {
   "cell_type": "code",
   "execution_count": 8,
   "metadata": {},
   "outputs": [
    {
     "data": {
      "image/png": "[encoded data removed]",
      "text/plain": [
       "<matplotlib.figure.Figure at 0x106b59310>"
      ]
     },
     "metadata": {},
     "output_type": "display_data"
    },
    {
     "name": "stdout",
     "output_type": "stream",
     "text": [
      "60% confidence interval for all data: [0.36, 0.53, 0.64]\n"
     ]
    },
    {
     "data": {
      "image/png": "[encoded data removed]",
      "text/plain": [
       "<matplotlib.figure.Figure at 0x106b59510>"
      ]
     },
     "metadata": {},
     "output_type": "display_data"
    },
    {
     "name": "stdout",
     "output_type": "stream",
     "text": [
      "60% confidence interval for all data except US: [0.07, 0.4, 0.58]\n"
     ]
    },
    {
     "data": {
      "image/png": "[encoded data removed]",
      "text/plain": [
       "<matplotlib.figure.Figure at 0x107560d50>"
      ]
     },
     "metadata": {},
     "output_type": "display_data"
    },
    {
     "name": "stdout",
     "output_type": "stream",
     "text": [
      "60% confidence interval for all data except US and Yemen: [-0.06, 0.05, 0.17]\n"
     ]
    }
   ],
   "source": [
    "wrap(frame, 60, 'all data')\n",
    "wrap(nous, 60, 'all data except US')\n",
    "wrap(neither, 60, 'all data except US and Yemen')"
   ]
  }
 ],
 "metadata": {
  "kernelspec": {
   "display_name": "Python 2",
   "language": "python",
   "name": "python2"
  },
  "language_info": {
   "codemirror_mode": {
    "name": "ipython",
    "version": 2
   },
   "file_extension": ".py",
   "mimetype": "text/x-python",
   "name": "python",
   "nbconvert_exporter": "python",
   "pygments_lexer": "ipython2",
   "version": "2.7.14"
  }
 },
 "nbformat": 4,
 "nbformat_minor": 2
}
